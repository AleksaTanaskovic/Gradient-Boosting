{
 "cells": [
  {
   "cell_type": "markdown",
   "id": "1f1dba48-1826-4e8f-82b6-d4fbce1bca5d",
   "metadata": {},
   "source": [
    "<h2>Gradient Boosting</h2>"
   ]
  },
  {
   "cell_type": "code",
   "execution_count": 1,
   "id": "e9fc3915",
   "metadata": {},
   "outputs": [],
   "source": [
    "# load data\n",
    "import matplotlib.pyplot as plt\n",
    "import matplotlib\n",
    "import numpy as np\n",
    "from math import *\n",
    "from sklearn.tree import DecisionTreeClassifier\n",
    "from sklearn.inspection import DecisionBoundaryDisplay\n",
    "from sklearn.model_selection import train_test_split\n",
    "from sklearn import metrics\n",
    "from sklearn.ensemble import GradientBoostingClassifier\n",
    "#from sklearn.model_selection import RandomizedSearchCV\n",
    "from sklearn.model_selection import GridSearchCV\n",
    "\n",
    "data = np.loadtxt('data_2.csv', delimiter = ',')\n",
    "np.random.shuffle(data)\n",
    "\n",
    "X = np.delete(data, 6, axis = 1) # pred[i][j]\n",
    "y = np.delete(data, [0, 1, 2, 3, 4, 5], axis = 1) # klase[i][0] - classes 0 and 1\n",
    "\n",
    "def column(matrix, p):\n",
    "    return np.array([row[p] for row in matrix])"
   ]
  },
  {
   "cell_type": "code",
   "execution_count": 2,
   "id": "32727a8a",
   "metadata": {},
   "outputs": [],
   "source": [
    "X_train, X_test, y_train, y_test = train_test_split(X, y, test_size = 0.3) # 70% (499) training and 30% (215) test\n",
    "\n",
    "n_estimators = [int(x) for x in np.linspace(start = 10, stop = 150, num = 20)]\n",
    "\n",
    "learning_rate = [0.001, 0.005, 0.1, 0.2, 0.5]\n",
    "\n",
    "max_depth = [int(x) for x in np.linspace(3, 50, num = 20)]\n",
    "max_depth.append(None)\n",
    "\n",
    "param_grid = {'n_estimators': n_estimators, 'learning_rate': learning_rate, 'max_depth': max_depth}"
   ]
  },
  {
   "cell_type": "code",
   "execution_count": 3,
   "id": "4d33d42a",
   "metadata": {},
   "outputs": [
    {
     "name": "stdout",
     "output_type": "stream",
     "text": [
      "Fitting 5 folds for each of 2100 candidates, totalling 10500 fits\n"
     ]
    },
    {
     "data": {
      "text/plain": [
       "{'learning_rate': 0.1, 'max_depth': 5, 'n_estimators': 17}"
      ]
     },
     "execution_count": 3,
     "metadata": {},
     "output_type": "execute_result"
    }
   ],
   "source": [
    "rf = GradientBoostingClassifier()\n",
    "\n",
    "rf_random = GridSearchCV(estimator = rf, param_grid = param_grid, cv = 5, n_jobs = -1, verbose = 2)\n",
    "\n",
    "rf_random.fit(X_train, y_train.ravel())\n",
    "\n",
    "rf_random.best_params_"
   ]
  },
  {
   "cell_type": "code",
   "execution_count": 4,
   "id": "649ff8ca",
   "metadata": {},
   "outputs": [
    {
     "name": "stdout",
     "output_type": "stream",
     "text": [
      "Tacnost: 82.7906976744186\n"
     ]
    }
   ],
   "source": [
    "optimal_max_depth = 3         # optimal 3\n",
    "optimal_learning_rate = 0.1   # optimal 0.1\n",
    "optimal_n_estimators = 10     # optimal 24\n",
    "\n",
    "clf = GradientBoostingClassifier(max_depth = optimal_max_depth, learning_rate = optimal_learning_rate, n_estimators = optimal_n_estimators)\n",
    "\n",
    "clf.fit(X_train, y_train.ravel())\n",
    "\n",
    "y_pred = clf.predict(X_test)\n",
    "\n",
    "print(\"Tacnost:\", metrics.accuracy_score(y_test, y_pred) * 100) # 0.8558139534883721 the best possible accuracy"
   ]
  },
  {
   "cell_type": "code",
   "execution_count": 5,
   "id": "071cc7b4",
   "metadata": {},
   "outputs": [
    {
     "name": "stdout",
     "output_type": "stream",
     "text": [
      "Tacnost za: 3 je: 82.7906976744186\n",
      "Tacnost za: 5 je: 80.93023255813954\n",
      "Tacnost za: 7 je: 81.86046511627907\n",
      "Tacnost za: 10 je: 78.6046511627907\n",
      "Tacnost za: 12 je: 75.81395348837209\n",
      "Tacnost za: 15 je: 75.34883720930232\n",
      "Tacnost za: 17 je: 73.95348837209302\n",
      "Tacnost za: 20 je: 74.4186046511628\n",
      "Tacnost za: 22 je: 73.0232558139535\n",
      "Tacnost za: 25 je: 73.95348837209302\n",
      "Tacnost za: 27 je: 75.34883720930232\n",
      "Tacnost za: 30 je: 73.48837209302326\n",
      "Tacnost za: 32 je: 73.48837209302326\n",
      "Tacnost za: 35 je: 73.95348837209302\n",
      "Tacnost za: 37 je: 72.55813953488372\n",
      "Tacnost za: 40 je: 73.95348837209302\n",
      "Tacnost za: 42 je: 73.0232558139535\n",
      "Tacnost za: 45 je: 72.55813953488372\n",
      "Tacnost za: 47 je: 73.0232558139535\n",
      "Tacnost za: 50 je: 73.95348837209302\n"
     ]
    },
    {
     "data": {
      "text/plain": [
       "([<matplotlib.axis.XTick at 0x24ba017f790>,\n",
       "  <matplotlib.axis.XTick at 0x24ba017f910>,\n",
       "  <matplotlib.axis.XTick at 0x24b9f96cf40>,\n",
       "  <matplotlib.axis.XTick at 0x24ba00ea4f0>,\n",
       "  <matplotlib.axis.XTick at 0x24ba00ea8e0>,\n",
       "  <matplotlib.axis.XTick at 0x24b9f8f6370>,\n",
       "  <matplotlib.axis.XTick at 0x24b9fb40700>,\n",
       "  <matplotlib.axis.XTick at 0x24b9fd4c340>,\n",
       "  <matplotlib.axis.XTick at 0x24b9fe47c10>,\n",
       "  <matplotlib.axis.XTick at 0x24b9fa599d0>,\n",
       "  <matplotlib.axis.XTick at 0x24b9fe47550>,\n",
       "  <matplotlib.axis.XTick at 0x24b9f8f6190>,\n",
       "  <matplotlib.axis.XTick at 0x24b9fa8f940>,\n",
       "  <matplotlib.axis.XTick at 0x24b9fa32100>,\n",
       "  <matplotlib.axis.XTick at 0x24b9ffe3a00>,\n",
       "  <matplotlib.axis.XTick at 0x24b9ff40550>,\n",
       "  <matplotlib.axis.XTick at 0x24ba00860a0>,\n",
       "  <matplotlib.axis.XTick at 0x24b9ff40940>,\n",
       "  <matplotlib.axis.XTick at 0x24b9fa8f100>,\n",
       "  <matplotlib.axis.XTick at 0x24b9fef0ca0>],\n",
       " [Text(0, 0, ''),\n",
       "  Text(0, 0, ''),\n",
       "  Text(0, 0, ''),\n",
       "  Text(0, 0, ''),\n",
       "  Text(0, 0, ''),\n",
       "  Text(0, 0, ''),\n",
       "  Text(0, 0, ''),\n",
       "  Text(0, 0, ''),\n",
       "  Text(0, 0, ''),\n",
       "  Text(0, 0, ''),\n",
       "  Text(0, 0, ''),\n",
       "  Text(0, 0, ''),\n",
       "  Text(0, 0, ''),\n",
       "  Text(0, 0, ''),\n",
       "  Text(0, 0, ''),\n",
       "  Text(0, 0, ''),\n",
       "  Text(0, 0, ''),\n",
       "  Text(0, 0, ''),\n",
       "  Text(0, 0, ''),\n",
       "  Text(0, 0, '')])"
      ]
     },
     "execution_count": 5,
     "metadata": {},
     "output_type": "execute_result"
    },
    {
     "data": {
      "image/png": "[encoded data removed]",
      "text/plain": [
       "<Figure size 640x480 with 1 Axes>"
      ]
     },
     "metadata": {},
     "output_type": "display_data"
    }
   ],
   "source": [
    "optimal_max_depth_pt2 = np.linspace(3, 50, 20, dtype = int)\n",
    "y_osa = []\n",
    "x_osa = optimal_max_depth_pt2\n",
    "\n",
    "for i in range(0, len(optimal_max_depth_pt2)):\n",
    "    clf = GradientBoostingClassifier(max_depth = optimal_max_depth_pt2[i], learning_rate = optimal_learning_rate, n_estimators = optimal_n_estimators)\n",
    "\n",
    "    clf.fit(X_train, y_train.ravel())\n",
    "\n",
    "    y_pred = clf.predict(X_test)\n",
    "\n",
    "    print(\"Tacnost za:\", optimal_max_depth_pt2[i], \"je:\", metrics.accuracy_score(y_test, y_pred) * 100)\n",
    "    y_osa.append(metrics.accuracy_score(y_test, y_pred) * 100)\n",
    "    \n",
    "fig = plt.figure()\n",
    "ax = fig.add_subplot()\n",
    "y = y_osa\n",
    "xt = x_osa\n",
    "ax.stem(xt, y)\n",
    "plt.xlabel('Max tree depth')\n",
    "plt.ylabel('Accuracy [%]')\n",
    "plt.xticks(x_osa)"
   ]
  },
  {
   "cell_type": "code",
   "execution_count": 7,
   "id": "c43c8d22",
   "metadata": {},
   "outputs": [
    {
     "name": "stdout",
     "output_type": "stream",
     "text": [
      "Tacnost za 0.001 je: 62.32558139534884\n",
      "Tacnost za 0.01 je: 62.32558139534884\n",
      "Tacnost za 0.1 je: 82.7906976744186\n",
      "Tacnost za 0.2 je: 82.7906976744186\n",
      "Tacnost za 0.5 je: 81.3953488372093\n"
     ]
    },
    {
     "data": {
      "text/plain": [
       "([<matplotlib.axis.XTick at 0x24b9fd11640>,\n",
       "  <matplotlib.axis.XTick at 0x24b9fd11610>,\n",
       "  <matplotlib.axis.XTick at 0x24b9ff123a0>,\n",
       "  <matplotlib.axis.XTick at 0x24ba004f850>,\n",
       "  <matplotlib.axis.XTick at 0x24ba004fc40>],\n",
       " [Text(0, 0, ''),\n",
       "  Text(0, 0, ''),\n",
       "  Text(0, 0, ''),\n",
       "  Text(0, 0, ''),\n",
       "  Text(0, 0, '')])"
      ]
     },
     "execution_count": 7,
     "metadata": {},
     "output_type": "execute_result"
    },
    {
     "data": {
      "image/png": "[encoded data removed]",
      "text/plain": [
       "<Figure size 640x480 with 1 Axes>"
      ]
     },
     "metadata": {},
     "output_type": "display_data"
    }
   ],
   "source": [
    "optimal_learning_rate_pt2 = [0.001, 0.01, 0.1, 0.2, 0.5]\n",
    "yy_osa = []\n",
    "xx_osa = optimal_learning_rate_pt2\n",
    "\n",
    "for i in range(0, len(optimal_learning_rate_pt2)):\n",
    "    clf = GradientBoostingClassifier(max_depth = optimal_max_depth, learning_rate = optimal_learning_rate_pt2[i], n_estimators = optimal_n_estimators)\n",
    "\n",
    "    clf.fit(X_train, y_train.ravel())\n",
    "\n",
    "    y_pred = clf.predict(X_test)\n",
    "\n",
    "    print(\"Tacnost za\", optimal_learning_rate_pt2[i], \"je:\", metrics.accuracy_score(y_test, y_pred) * 100)\n",
    "    yy_osa.append(metrics.accuracy_score(y_test, y_pred) * 100)\n",
    "    \n",
    "fig = plt.figure()\n",
    "ax = fig.add_subplot()\n",
    "y = yy_osa\n",
    "xt = xx_osa\n",
    "ax.stem(xt, y)\n",
    "plt.xlabel('Learning rate')\n",
    "plt.ylabel('Accuracy [%]')\n",
    "plt.xticks(xx_osa)"
   ]
  },
  {
   "cell_type": "code",
   "execution_count": 8,
   "id": "d4d1a015",
   "metadata": {},
   "outputs": [
    {
     "name": "stdout",
     "output_type": "stream",
     "text": [
      "Tacnost za: 10 je: 82.7906976744186\n",
      "Tacnost za: 17 je: 82.7906976744186\n",
      "Tacnost za: 24 je: 82.7906976744186\n",
      "Tacnost za: 32 je: 81.86046511627907\n",
      "Tacnost za: 39 je: 81.3953488372093\n",
      "Tacnost za: 46 je: 81.3953488372093\n",
      "Tacnost za: 54 je: 81.86046511627907\n",
      "Tacnost za: 61 je: 81.86046511627907\n",
      "Tacnost za: 68 je: 82.32558139534883\n",
      "Tacnost za: 76 je: 81.86046511627907\n",
      "Tacnost za: 83 je: 82.32558139534883\n",
      "Tacnost za: 91 je: 83.72093023255815\n",
      "Tacnost za: 98 je: 82.7906976744186\n",
      "Tacnost za: 105 je: 81.86046511627907\n",
      "Tacnost za: 113 je: 81.86046511627907\n",
      "Tacnost za: 120 je: 82.32558139534883\n",
      "Tacnost za: 127 je: 83.25581395348837\n",
      "Tacnost za: 135 je: 82.7906976744186\n",
      "Tacnost za: 142 je: 83.25581395348837\n",
      "Tacnost za: 150 je: 82.32558139534883\n"
     ]
    },
    {
     "data": {
      "text/plain": [
       "([<matplotlib.axis.XTick at 0x24ba009a4c0>,\n",
       "  <matplotlib.axis.XTick at 0x24ba009a490>,\n",
       "  <matplotlib.axis.XTick at 0x24ba00a7130>,\n",
       "  <matplotlib.axis.XTick at 0x24b9feaba60>,\n",
       "  <matplotlib.axis.XTick at 0x24b9fe721f0>,\n",
       "  <matplotlib.axis.XTick at 0x24b9fe72940>,\n",
       "  <matplotlib.axis.XTick at 0x24b9fe740d0>,\n",
       "  <matplotlib.axis.XTick at 0x24b9fe729a0>,\n",
       "  <matplotlib.axis.XTick at 0x24b9feab7f0>,\n",
       "  <matplotlib.axis.XTick at 0x24b9fe74b80>,\n",
       "  <matplotlib.axis.XTick at 0x24b9fe7d310>,\n",
       "  <matplotlib.axis.XTick at 0x24b9fe7da60>,\n",
       "  <matplotlib.axis.XTick at 0x24b9ff911f0>,\n",
       "  <matplotlib.axis.XTick at 0x24b9ff91940>,\n",
       "  <matplotlib.axis.XTick at 0x24b9fe7d820>,\n",
       "  <matplotlib.axis.XTick at 0x24b9fe722e0>,\n",
       "  <matplotlib.axis.XTick at 0x24b9ff91220>,\n",
       "  <matplotlib.axis.XTick at 0x24b9ff984c0>,\n",
       "  <matplotlib.axis.XTick at 0x24b9ff98c10>,\n",
       "  <matplotlib.axis.XTick at 0x24b9ff9d3a0>],\n",
       " [Text(0, 0, ''),\n",
       "  Text(0, 0, ''),\n",
       "  Text(0, 0, ''),\n",
       "  Text(0, 0, ''),\n",
       "  Text(0, 0, ''),\n",
       "  Text(0, 0, ''),\n",
       "  Text(0, 0, ''),\n",
       "  Text(0, 0, ''),\n",
       "  Text(0, 0, ''),\n",
       "  Text(0, 0, ''),\n",
       "  Text(0, 0, ''),\n",
       "  Text(0, 0, ''),\n",
       "  Text(0, 0, ''),\n",
       "  Text(0, 0, ''),\n",
       "  Text(0, 0, ''),\n",
       "  Text(0, 0, ''),\n",
       "  Text(0, 0, ''),\n",
       "  Text(0, 0, ''),\n",
       "  Text(0, 0, ''),\n",
       "  Text(0, 0, '')])"
      ]
     },
     "execution_count": 8,
     "metadata": {},
     "output_type": "execute_result"
    },
    {
     "data": {
      "image/png": "[encoded data removed]",
      "text/plain": [
       "<Figure size 640x480 with 1 Axes>"
      ]
     },
     "metadata": {},
     "output_type": "display_data"
    }
   ],
   "source": [
    "optimal_n_estimators_pt2 = np.linspace(10, 150, 20, dtype = int)\n",
    "yyy_osa = []\n",
    "xxx_osa = optimal_n_estimators_pt2\n",
    "\n",
    "for i in range(0, len(optimal_n_estimators_pt2)):\n",
    "    clf = GradientBoostingClassifier(max_depth = optimal_max_depth, learning_rate = optimal_learning_rate, n_estimators = optimal_n_estimators_pt2[i])\n",
    "\n",
    "    clf.fit(X_train, y_train.ravel())\n",
    "\n",
    "    y_pred = clf.predict(X_test)\n",
    "\n",
    "    print(\"Tacnost za:\", optimal_n_estimators_pt2[i], \"je:\", metrics.accuracy_score(y_test, y_pred) * 100)\n",
    "    yyy_osa.append(metrics.accuracy_score(y_test, y_pred) * 100)\n",
    "    \n",
    "fig = plt.figure()\n",
    "ax = fig.add_subplot()\n",
    "y = yyy_osa\n",
    "xt = xxx_osa\n",
    "ax.stem(xt, y)\n",
    "plt.xlabel('Number of trees')\n",
    "plt.ylabel('Accuracy [%]')\n",
    "plt.xticks(xxx_osa)"
   ]
  }
 ],
 "metadata": {
  "kernelspec": {
   "display_name": "Python 3 (ipykernel)",
   "language": "python",
   "name": "python3"
  },
  "language_info": {
   "codemirror_mode": {
    "name": "ipython",
    "version": 3
   },
   "file_extension": ".py",
   "mimetype": "text/x-python",
   "name": "python",
   "nbconvert_exporter": "python",
   "pygments_lexer": "ipython3",
   "version": "3.9.13"
  }
 },
 "nbformat": 4,
 "nbformat_minor": 5
}
